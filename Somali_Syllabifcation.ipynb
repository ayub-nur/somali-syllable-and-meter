{
  "cells": [
    {
      "cell_type": "markdown",
      "metadata": {
        "id": "view-in-github",
        "colab_type": "text"
      },
      "source": [
        "<a href=\"https://colab.research.google.com/github/ayub-nur/somali-syllable-and-meter/blob/main/Somali_Syllabifcation.ipynb\" target=\"_parent\"><img src=\"https://colab.research.google.com/assets/colab-badge.svg\" alt=\"Open In Colab\"/></a>"
      ]
    },
    {
      "cell_type": "code",
      "execution_count": null,
      "metadata": {
        "id": "iOnBx51XAqQS",
        "cellView": "form"
      },
      "outputs": [],
      "source": [
        "#@title libraries and imports\n",
        "\n",
        "import pandas\n",
        "import io\n",
        "import sys\n",
        "import re"
      ]
    },
    {
      "cell_type": "code",
      "execution_count": null,
      "metadata": {
        "colab": {
          "background_save": true
        },
        "id": "AAdPZySRJGIX",
        "cellView": "form"
      },
      "outputs": [],
      "source": [
        "#@title consonant and vowel definitions\n",
        "\n",
        "consonants      = [\"'\", \"b\", \"t\", \"j\", \"x\", \"kh\", \"d\", \"r\", \"s\", \"sh\", \"dh\",\n",
        "                   \"c\", \"g\", \"f\", \"q\", \"k\", \"l\", \"m\", \"n\", \"w\", \"h\", \"y\"]\n",
        "\n",
        "cons_digraph    = [\"kh\", \"sh\", \"dh\"]\n",
        "\n",
        "# defining all vowel variations\n",
        "short_vowels    = [\"a\", \"i\", \"u\", \"e\", \"o\"]\n",
        "long_vowels     = [\"aa\", \"ii\", \"uu\", \"ee\", \"oo\"]\n",
        "\n",
        "reg_diphthongs  = [\"ay\", \"aw\", \"ey\", \"oy\", \"ow\",]\n",
        "long_diphthongs = [\"aay\", \"aaw\", \"eey\", \"ooy\", \"oow\"]\n",
        "\n",
        "# defining vowel short hands\n",
        "diphthongs = reg_diphthongs + long_diphthongs\n",
        "vowels     = short_vowels + long_vowels\n",
        "\n",
        "any_vowel  = vowels + diphthongs"
      ]
    },
    {
      "cell_type": "code",
      "execution_count": null,
      "metadata": {
        "colab": {
          "background_save": true
        },
        "id": "rMpePvRlc3LU",
        "cellView": "form"
      },
      "outputs": [],
      "source": [
        "#@title split_into_syllables\n",
        "\n",
        "def split_into_syllables(word):\n",
        "\n",
        "    syllables = []\n",
        "    current_syllable = \"\"\n",
        "    i = 0\n",
        "\n",
        "    index_last_char = len(word)\n",
        "    # print(\"last char index\", index_last_char)\n",
        "    while i < len(word):\n",
        "            # Check if current character is a consonant\n",
        "            if (i == index_last_char - 1):\n",
        "                    # print(\"we in the right section\")\n",
        "                    # print(\"word is: \", word[i])\n",
        "\n",
        "                    current_syllable += word[i]\n",
        "                    # print(\"k i was: \", i)\n",
        "                    i += 1\n",
        "                    # print(\"l i is: \", i)\n",
        "            elif word[i:i+2] in consonants:\n",
        "                current_syllable += word[i:i+2]\n",
        "                # print(\"a i was: \", i)\n",
        "                i += 2\n",
        "                # print(\"b i is: \", i)\n",
        "            elif word[i] in consonants:\n",
        "                current_syllable += word[i]\n",
        "                # print(\"c i was: \", i)\n",
        "                i += 1\n",
        "                # print(\"d i is: \", i)\n",
        "\n",
        "            # elif word[i] == \" \":\n",
        "            #     current_syllable += word[i]\n",
        "            #     i += 1\n",
        "\n",
        "\n",
        "\n",
        "\n",
        "            # Check if current character is a vowel\n",
        "            if word[i:i+3] in vowels:\n",
        "            # If the current syllable is not empty\n",
        "                                            # and the next character is a vowel,\n",
        "\n",
        "            # add the current syllable to the list and reset it\n",
        "                if (current_syllable) and (i + 3 < len(word)) and (word[i+3] in vowels):\n",
        "                    syllables.append(current_syllable)\n",
        "                    current_syllable = \"\"\n",
        "                current_syllable += word[i:i+3]\n",
        "                # print(\"e i was: \", i)\n",
        "                i += 3\n",
        "                # print(\"f i is: \", i)\n",
        "            elif word[i:i+2] in vowels:\n",
        "                current_syllable += word[i:i+2]\n",
        "                # print(\"g i was: \", i)\n",
        "                i += 2\n",
        "                # print(\"h i is: \", i)\n",
        "\n",
        "            elif (i != index_last_char):\n",
        "                # print(\"m i is: \", i)\n",
        "                # print(\"index_last_char is: \", index_last_char)\n",
        "\n",
        "                if (word[i] in vowels):\n",
        "                    # print(\"vowel\")\n",
        "                    current_syllable += word[i]\n",
        "                    # print(\"i i was: \", i)\n",
        "                    i += 1\n",
        "                    # print(\"j i is: \", i)\n",
        "\n",
        "          # Add the current syllable to the list and reset\n",
        "            if current_syllable:\n",
        "                syllables.append(current_syllable)\n",
        "                current_syllable = \"\"\n",
        "\n",
        "    return syllables\n"
      ]
    },
    {
      "cell_type": "code",
      "execution_count": null,
      "metadata": {
        "colab": {
          "background_save": true
        },
        "id": "r-1yqZbedBZk",
        "cellView": "form"
      },
      "outputs": [],
      "source": [
        "#@title correct_codas\n",
        "\n",
        "def correct_codas(syllabified_word):\n",
        "\n",
        "    counter = 0\n",
        "    new_word = \"\"\n",
        "\n",
        "    for i in syllabified_word:\n",
        "\n",
        "        #should never happen on zeroth index\n",
        "        if i in consonants:\n",
        "            new_word = syllabified_word[counter - 1] + i\n",
        "            syllabified_word[counter - 1] = new_word\n",
        "\n",
        "            syllabified_word.remove(i)\n",
        "            new_word = \"\"\n",
        "\n",
        "        counter += 1\n",
        "    return syllabified_word"
      ]
    },
    {
      "cell_type": "code",
      "execution_count": null,
      "metadata": {
        "id": "18ECVPKgdRQI",
        "cellView": "form"
      },
      "outputs": [],
      "source": [
        "#@title parser\n",
        "\n",
        "def parser(line):\n",
        "    line = line.lower()\n",
        "\n",
        "    regex = re.compile('[^a-zA-Z ]')\n",
        "    line = regex.sub(' ', line)\n",
        "\n",
        "    word_arr = line.split()\n",
        "\n",
        "    parsed_line = []\n",
        "    for word in word_arr:\n",
        "        temp_syl = split_into_syllables(word)\n",
        "        syllables = correct_codas(temp_syl)\n",
        "        parsed_line += syllables\n",
        "\n",
        "    return parsed_line"
      ]
    },
    {
      "cell_type": "code",
      "execution_count": null,
      "metadata": {
        "colab": {
          "background_save": true
        },
        "id": "LM_L386udUD6",
        "cellView": "form"
      },
      "outputs": [],
      "source": [
        "#@title count_morae\n",
        "def count_morae(parsed_line):\n",
        "    morae_list = []\n",
        "    index = 0\n",
        "    for syl in parsed_line:\n",
        "        # # if long_diphthongs in syl:\n",
        "        if any(s in syl for s in long_diphthongs):\n",
        "            morae_list.append(2)\n",
        "\n",
        "\n",
        "        # # if reg_diphthongs in syl:\n",
        "        elif any(s in syl for s in reg_diphthongs):\n",
        "            morae_list.append(\"?\")\n",
        "\n",
        "\n",
        "        # if long_vowels in syl:\n",
        "        elif any(s in syl for s in long_vowels):\n",
        "            morae_list.append(2)\n",
        "\n",
        "\n",
        "        # if short_vowels in syl:\n",
        "        elif any(s in syl for s in short_vowels):\n",
        "            # print(\"index = \", index)\n",
        "            morae_list.append(1)\n",
        "\n",
        "    return morae_list\n"
      ]
    },
    {
      "cell_type": "code",
      "execution_count": null,
      "metadata": {
        "colab": {
          "background_save": true
        },
        "id": "lPNRrR3vdT9G",
        "cellView": "form"
      },
      "outputs": [],
      "source": [
        "#@title sum_morae\n",
        "\n",
        "def sum_morae(morae_list):\n",
        "    sum = 0\n",
        "    unknown_morae = 0\n",
        "    for mora in morae_list:\n",
        "        if mora == \"?\":\n",
        "            unknown_morae += 1\n",
        "        else:\n",
        "            sum += mora\n",
        "    return unknown_morae, sum\n"
      ]
    },
    {
      "cell_type": "code",
      "execution_count": null,
      "metadata": {
        "id": "0551KohJdKM8",
        "colab": {
          "base_uri": "https://localhost:8080/"
        },
        "cellView": "form",
        "outputId": "f9f11d5e-30ee-4780-8558-4d407fa607e5"
      },
      "outputs": [
        {
          "output_type": "stream",
          "name": "stdout",
          "text": [
            "Enter one line: fakaanaqaabaqawsayniaw-adnaa\n",
            "\n",
            "\n",
            "['fa', 'kaa', 'na', 'qaa', 'ba', 'qaw', 'say', 'ni', 'aw', 'ad', 'naa']\n",
            "[1, 2, 1, 2, 1, '?', '?', 1, '?', 1, 2]\n",
            "\n",
            "\n",
            "known length:  11\n",
            "unknown syllables:  3\n"
          ]
        }
      ],
      "source": [
        "#@title main\n",
        "\n",
        "line = input(\"Enter one line: \")\n",
        "\n",
        "list_of_syllables = parser(line)\n",
        "corrected_list_of_syllables = correct_codas(list_of_syllables)\n",
        "print(\"\\n\")\n",
        "print(corrected_list_of_syllables)\n",
        "\n",
        "list_of_morae = count_morae(corrected_list_of_syllables)\n",
        "print(list_of_morae)\n",
        "\n",
        "unknown, known = sum_morae(list_of_morae)\n",
        "\n",
        "print(\"\\n\")\n",
        "print(\"known length: \", known)\n",
        "print(\"unknown syllables: \", unknown)"
      ]
    }
  ],
  "metadata": {
    "colab": {
      "provenance": [],
      "include_colab_link": true
    },
    "kernelspec": {
      "display_name": "Python 3",
      "name": "python3"
    },
    "language_info": {
      "name": "python"
    }
  },
  "nbformat": 4,
  "nbformat_minor": 0
}