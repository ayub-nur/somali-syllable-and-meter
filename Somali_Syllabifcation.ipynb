{
  "cells": [
    {
      "cell_type": "code",
      "execution_count": 1,
      "metadata": {
        "id": "iOnBx51XAqQS"
      },
      "outputs": [],
      "source": [
        "#@title libraries and imports\n",
        "\n",
        "import pandas\n",
        "import io\n",
        "import sys\n",
        "import re"
      ]
    },
    {
      "cell_type": "code",
      "execution_count": 16,
      "metadata": {
        "id": "AAdPZySRJGIX"
      },
      "outputs": [],
      "source": [
        "#@title consonant and vowel definitions\n",
        "\n",
        "# orthographic inventory of standard Maxaa dialect Somali\n",
        "CONSONANTS         = [\"'\", \"b\", \"t\", \"j\", \"x\", \"kh\", \"d\", \"r\", \"s\", \"sh\", \"dh\",\n",
        "                      \"c\", \"g\", \"f\", \"q\", \"k\", \"l\", \"m\", \"n\", \"w\", \"h\", \"y\"]\n",
        "\n",
        "CONS_DIGRAPH       = [\"kh\", \"sh\", \"dh\"]\n",
        "\n",
        "# defining all vowel variations\n",
        "SHORT_VOWELS       = [\"a\", \"i\", \"u\", \"e\", \"o\"]\n",
        "LONG_VOWELS        = [\"aa\", \"ii\", \"uu\", \"ee\", \"oo\"]\n",
        "\n",
        "VOLATILE_DIPHTH    = [\"ay\", \"aw\", \"ey\", \"oy\", \"ow\",]\n",
        "LONG_DIPHTH        = [\"aay\", \"aaw\", \"eey\", \"ooy\", \"oow\"]\n",
        "\n",
        "# defining vowel short hands\n",
        "DIPHTHONGS         = VOLATILE_DIPHTH + LONG_DIPHTH\n",
        "VOWELS_BAR_DIPHTH  = SHORT_VOWELS + LONG_VOWELS\n",
        "\n",
        "VOWELS_INCL_DIPHTH = VOWELS_BAR_DIPHTH + DIPHTHONGS\n",
        "\n",
        "UNKNOWN_LENGTH     = \"?\""
      ]
    },
    {
      "cell_type": "code",
      "execution_count": 25,
      "metadata": {
        "id": "rMpePvRlc3LU"
      },
      "outputs": [],
      "source": [
        "#@title split_into_syllables\n",
        "\n",
        "# name:        split_into_syllables\n",
        "#\n",
        "# inputs:      a word\n",
        "#\n",
        "# return:      a list of the syllables in word\n",
        "#\n",
        "# description: create a list of syllables from a given word\n",
        "#              in standard Maxaa dialect Somali\n",
        "#\n",
        "# notes:\n",
        "\n",
        "def split_into_syllables(word):\n",
        "\n",
        "    syllables = []\n",
        "    current_syllable = \"\"\n",
        "    i = 0\n",
        "\n",
        "    index_last_char = len(word)\n",
        "\n",
        "    while i < len(word):\n",
        "\n",
        "            # Check if current character is a consonant\n",
        "            if (i == index_last_char - 1):\n",
        "                    current_syllable += word[i]\n",
        "                    i += 1\n",
        "\n",
        "            elif word[i:i+2] in CONSONANTS:\n",
        "                current_syllable += word[i:i+2]\n",
        "                i += 2\n",
        "            elif word[i] in CONSONANTS:\n",
        "                current_syllable += word[i]\n",
        "                i += 1\n",
        "\n",
        "\n",
        "            # Check if current character is a vowel\n",
        "            if word[i:i+3] in VOWELS_BAR_DIPHTH:\n",
        "\n",
        "            # If the current syllable is not empty\n",
        "            # and the next character is a vowel\n",
        "            # add the current syllable to the list and reset it\n",
        "                if ((current_syllable)  and\n",
        "                    (i + 3 < len(word)) and\n",
        "                    (word[i+3] in VOWELS_BAR_DIPHTH)):\n",
        "\n",
        "                    syllables.append(current_syllable)\n",
        "                    current_syllable = \"\"\n",
        "                current_syllable += word[i:i+3]\n",
        "                i += 3\n",
        "\n",
        "            elif word[i:i+2] in VOWELS_BAR_DIPHTH:\n",
        "                current_syllable += word[i:i+2]\n",
        "                i += 2\n",
        "\n",
        "            elif (i != index_last_char):\n",
        "                if (word[i] in VOWELS_BAR_DIPHTH):\n",
        "                    current_syllable += word[i]\n",
        "                    i += 1\n",
        "\n",
        "          # Add the current syllable to the list and reset\n",
        "            if current_syllable:\n",
        "                syllables.append(current_syllable)\n",
        "                current_syllable = \"\"\n",
        "\n",
        "    # correct error coda consonants are incorrectly\n",
        "    # indexed on their own and trail behind\n",
        "    corrected_syllables = correct_codas(syllables)\n",
        "    return syllables\n"
      ]
    },
    {
      "cell_type": "code",
      "execution_count": 18,
      "metadata": {
        "id": "r-1yqZbedBZk"
      },
      "outputs": [],
      "source": [
        "#@title correct_codas\n",
        "\n",
        "# name:           correct_codas\n",
        "#\n",
        "# inputs:         a list of syllables that\n",
        "#\n",
        "# return:         the corrected list of syllables\n",
        "#\n",
        "# description:    picks up trailing consonants and attaches them\n",
        "#                 to the previous syllable as its coda\n",
        "\n",
        "def correct_codas(syllabified_word):\n",
        "\n",
        "    counter = 0\n",
        "    new_word = \"\"\n",
        "\n",
        "    for i in syllabified_word:\n",
        "\n",
        "        # TODO: assert against 0th index\n",
        "        if i in CONSONANTS:\n",
        "            new_word = syllabified_word[counter - 1] + i\n",
        "            syllabified_word[counter - 1] = new_word\n",
        "\n",
        "            syllabified_word.remove(i)\n",
        "            new_word = \"\"\n",
        "\n",
        "        counter += 1\n",
        "    return syllabified_word"
      ]
    },
    {
      "cell_type": "code",
      "execution_count": 19,
      "metadata": {
        "id": "18ECVPKgdRQI"
      },
      "outputs": [],
      "source": [
        "#@title parser\n",
        "\n",
        "# name:           parser\n",
        "#\n",
        "# inputs:         string\n",
        "#\n",
        "# return:         properly syllabified string\n",
        "#\n",
        "# description:    take any string in standard Maxaa-dialect Somali and\n",
        "#                 parse it into a list of syllables\n",
        "#\n",
        "\n",
        "def parser(line):\n",
        "    line = line.lower()\n",
        "\n",
        "    # remove all non-alphabet characters\n",
        "    regex = re.compile('[^a-zA-Z ]')\n",
        "    line = regex.sub(' ', line)\n",
        "\n",
        "    word_arr = line.split()\n",
        "\n",
        "    parsed_line = []\n",
        "    for word in word_arr:\n",
        "        syllables = split_into_syllables(word)\n",
        "        parsed_line += syllables\n",
        "\n",
        "    # unsure why I need to correct here?\n",
        "    parsed_line = correct_codas(parsed_line)\n",
        "    return parsed_line"
      ]
    },
    {
      "cell_type": "code",
      "execution_count": 20,
      "metadata": {
        "id": "LM_L386udUD6"
      },
      "outputs": [],
      "source": [
        "#@title count_morae\n",
        "\n",
        "# name:           count_morae\n",
        "#\n",
        "# inputs:         list of syllables\n",
        "#\n",
        "# return:         list of their moraic length\n",
        "#\n",
        "# description:    take a list of syllables and return their\n",
        "#                 length (short: 1) or (long: 2)\n",
        "#\n",
        "# note:           diphthongs unimplemented\n",
        "#                 rendered as '?' since they can very in\n",
        "#                 length depending on several factors\n",
        "\n",
        "def count_morae(parsed_line):\n",
        "    morae_list = []\n",
        "    index = 0\n",
        "    for syl in parsed_line:\n",
        "        # if LONG_DIPHTH in syl:\n",
        "        if any(s in syl for s in LONG_DIPHTH):\n",
        "            morae_list.append(2)\n",
        "\n",
        "\n",
        "        # if VOLATILE_DIPHTH in syl:\n",
        "        elif any(s in syl for s in VOLATILE_DIPHTH):\n",
        "\n",
        "          # TODO: implement function to identify diphthong lengths\n",
        "            morae_list.append(UNKNOWN_LENGTH)\n",
        "\n",
        "\n",
        "        # if LONG_VOWELS in syl:\n",
        "        elif any(s in syl for s in LONG_VOWELS):\n",
        "            morae_list.append(2)\n",
        "\n",
        "\n",
        "        # if SHORT_VOWELS in syl:\n",
        "        elif any(s in syl for s in SHORT_VOWELS):\n",
        "            morae_list.append(1)\n",
        "\n",
        "    return morae_list\n"
      ]
    },
    {
      "cell_type": "code",
      "execution_count": 21,
      "metadata": {
        "id": "lPNRrR3vdT9G"
      },
      "outputs": [],
      "source": [
        "#@title sum_morae\n",
        "\n",
        "# name:           sum_morae\n",
        "#\n",
        "# inputs:         list of morae\n",
        "#\n",
        "# return:         number of unknown morae and sum of the list\n",
        "#\n",
        "# description:    sums the length of syllables in a line\n",
        "#                 and indentify number of unknown syllables\n",
        "#\n",
        "def sum_morae(morae_list):\n",
        "    sum = 0\n",
        "    unknown_morae = 0\n",
        "    for mora in morae_list:\n",
        "        if mora == UNKNOWN_LENGTH:\n",
        "            unknown_morae += 1\n",
        "        else:\n",
        "            sum += mora\n",
        "    return unknown_morae, sum\n"
      ]
    },
    {
      "cell_type": "code",
      "execution_count": 26,
      "metadata": {
        "id": "0551KohJdKM8",
        "colab": {
          "base_uri": "https://localhost:8080/"
        },
        "outputId": "9870b188-14ea-4986-df4f-591506b7e0f1"
      },
      "outputs": [
        {
          "output_type": "stream",
          "name": "stdout",
          "text": [
            "Enter one line: aw awr caw caws hello qaamuus bar iyo badh hayay\n",
            "\n",
            "\n",
            "['aw', 'awr', 'caw', 'caws', 'hel', 'lo', 'qaa', 'muus', 'bar', 'i', 'yo', 'badh', 'ha', 'yay']\n",
            "['?', '?', '?', '?', 1, 1, 2, 2, 1, 1, 1, 1, 1, '?']\n",
            "\n",
            "\n",
            "known length:  11\n",
            "unknown syllables:  5\n"
          ]
        }
      ],
      "source": [
        "#@title main\n",
        "\n",
        "line = input(\"Enter one line: \")\n",
        "\n",
        "list_of_syllables = parser(line)\n",
        "print(\"\\n\")\n",
        "print(list_of_syllables)\n",
        "\n",
        "list_of_morae = count_morae(list_of_syllables)\n",
        "print(list_of_morae)\n",
        "\n",
        "unknown, known = sum_morae(list_of_morae)\n",
        "\n",
        "print(\"\\n\")\n",
        "print(\"known length: \", known)\n",
        "print(\"unknown syllables: \", unknown)"
      ]
    }
  ],
  "metadata": {
    "colab": {
      "provenance": []
    },
    "kernelspec": {
      "display_name": "Python 3",
      "name": "python3"
    },
    "language_info": {
      "name": "python"
    }
  },
  "nbformat": 4,
  "nbformat_minor": 0
}
