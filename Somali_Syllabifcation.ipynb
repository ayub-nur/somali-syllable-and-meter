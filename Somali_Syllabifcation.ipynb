{
  "cells": [
    {
      "cell_type": "markdown",
      "metadata": {
        "id": "view-in-github",
        "colab_type": "text"
      },
      "source": [
        "<a href=\"https://colab.research.google.com/github/ayub-nur/somali-syllable-and-meter/blob/main/Somali_Syllabifcation.ipynb\" target=\"_parent\"><img src=\"https://colab.research.google.com/assets/colab-badge.svg\" alt=\"Open In Colab\"/></a>"
      ]
    },
    {
      "cell_type": "markdown",
      "source": [
        "current errors:\n",
        "\n",
        "infinate loop on enteries that don't conform to expected Somali syllable structure. (ex: \"puntland\")\n"
      ],
      "metadata": {
        "id": "4yylPj-Iph2I"
      }
    },
    {
      "cell_type": "code",
      "execution_count": 1,
      "metadata": {
        "id": "iOnBx51XAqQS"
      },
      "outputs": [],
      "source": [
        "#@title libraries and imports\n",
        "\n",
        "import pandas\n",
        "import io\n",
        "import sys\n",
        "import re"
      ]
    },
    {
      "cell_type": "code",
      "execution_count": 2,
      "metadata": {
        "id": "AAdPZySRJGIX"
      },
      "outputs": [],
      "source": [
        "#@title consonant and vowel definitions\n",
        "\n",
        "# orthographic inventory of standard Maxaa dialect Somali\n",
        "CONSONANTS         = [\"'\", \"b\", \"t\", \"j\", \"x\", \"kh\", \"d\", \"r\", \"s\", \"sh\", \"dh\",\n",
        "                      \"c\", \"g\", \"f\", \"q\", \"k\", \"l\", \"m\", \"n\", \"w\", \"h\", \"y\"]\n",
        "\n",
        "CONS_DIGRAPH       = [\"kh\", \"sh\", \"dh\"]\n",
        "\n",
        "# defining all vowel variations\n",
        "SHORT_VOWELS       = [\"a\", \"i\", \"u\", \"e\", \"o\"]\n",
        "LONG_VOWELS        = [\"aa\", \"ii\", \"uu\", \"ee\", \"oo\"]\n",
        "\n",
        "VOLATILE_DIPHTH    = [\"ay\",   \"aw\",   \"ey\", \"oy\",  \"ow\"]\n",
        "LONG_DIPHTH        = [\"aay\", \"aaw\", \"eey\", \"ooy\", \"oow\"]\n",
        "\n",
        "# defining vowel short hands\n",
        "DIPHTHONGS         = VOLATILE_DIPHTH + LONG_DIPHTH\n",
        "VOWELS_BAR_DIPHTH  = SHORT_VOWELS + LONG_VOWELS\n",
        "\n",
        "VOWELS_INCL_DIPHTH = VOWELS_BAR_DIPHTH + DIPHTHONGS\n",
        "\n",
        "UNKNOWN_LENGTH     = \"?\""
      ]
    },
    {
      "cell_type": "code",
      "source": [
        "#@title valid word\n",
        "\n",
        "def is_valid_word(word):\n",
        "    if not isalpha(word):\n",
        "        return false\n",
        "\n"
      ],
      "metadata": {
        "id": "JLKzOEg185nb"
      },
      "execution_count": 3,
      "outputs": []
    },
    {
      "cell_type": "code",
      "execution_count": 4,
      "metadata": {
        "id": "18ECVPKgdRQI"
      },
      "outputs": [],
      "source": [
        "#@title parser\n",
        "\n",
        "# name:           parser\n",
        "#\n",
        "# inputs:         string\n",
        "#\n",
        "# return:         properly syllabified string\n",
        "#\n",
        "# description:    take any string in standard Maxaa-dialect Somali and\n",
        "#                 parse it into a list of syllables\n",
        "#\n",
        "\n",
        "def parser(line):\n",
        "    line = line.lower()\n",
        "\n",
        "    # TODO: fix error where ' is deleted\n",
        "\n",
        "    # remove all non-alphabet characters\n",
        "    regex = re.compile(\"[^a-zA-Z' ]\")        # needs to accomodate '\n",
        "    line = regex.sub(' ', line)             # breaks non-alpha into more words\n",
        "\n",
        "    word_arr = line.split()\n",
        "\n",
        "    parsed_line = []\n",
        "    for word in word_arr:                   # O(n)\n",
        "        syllables = split_into_syllables(word)\n",
        "        parsed_line += syllables\n",
        "\n",
        "    # unsure why I need to correct here?\n",
        "    parsed_line = correct_codas(parsed_line)\n",
        "    return parsed_line"
      ]
    },
    {
      "cell_type": "code",
      "execution_count": 5,
      "metadata": {
        "id": "rMpePvRlc3LU",
        "cellView": "form"
      },
      "outputs": [],
      "source": [
        "#@title split_into_syllables\n",
        "\n",
        "# name:        split_into_syllables\n",
        "#\n",
        "# inputs:      a word\n",
        "#\n",
        "# return:      a list of the syllables in word\n",
        "#\n",
        "# description: create a list of syllables from a given word\n",
        "#              in standard Maxaa dialect Somali\n",
        "#\n",
        "# notes:\n",
        "\n",
        "# TODO:\n",
        "# solve infinite loop for cluster of >2 consonants\n",
        "\n",
        "def split_into_syllables(word):\n",
        "\n",
        "    syllables = []\n",
        "    current_syllable = \"\"\n",
        "    i = 0\n",
        "\n",
        "    index_last_char = len(word)\n",
        "\n",
        "    while i < len(word):                            # O(n)\n",
        "\n",
        "            # check against indexing out of range\n",
        "            if (i == index_last_char - 1):\n",
        "                    current_syllable += word[i]\n",
        "                    i += 1\n",
        "\n",
        "            # Check if current character is a consonant\n",
        "            elif word[i:i+2] in CONSONANTS:\n",
        "                current_syllable += word[i:i+2]\n",
        "                i += 2\n",
        "\n",
        "            elif word[i] in CONSONANTS:\n",
        "                current_syllable += word[i]\n",
        "                i += 1\n",
        "\n",
        "\n",
        "            # Check if current character is a vowel\n",
        "            if word[i:i+3] in VOWELS_BAR_DIPHTH:\n",
        "\n",
        "            # If the current syllable is not empty\n",
        "            # and the next character is a vowel\n",
        "            # add the current syllable to the list and reset it\n",
        "                if ((current_syllable)  and\n",
        "                    (i + 3 < len(word)) and\n",
        "                    (word[i+3] in VOWELS_BAR_DIPHTH)):\n",
        "\n",
        "                    syllables.append(current_syllable)\n",
        "                    current_syllable = \"\"\n",
        "                current_syllable += word[i:i+3]\n",
        "                i += 3\n",
        "\n",
        "            elif word[i:i+2] in VOWELS_BAR_DIPHTH:\n",
        "                current_syllable += word[i:i+2]\n",
        "                i += 2\n",
        "\n",
        "            elif (i != index_last_char):\n",
        "                if (word[i] in VOWELS_BAR_DIPHTH):\n",
        "                    current_syllable += word[i]\n",
        "                    i += 1\n",
        "\n",
        "          # Add the current syllable to the list and reset\n",
        "            if current_syllable:\n",
        "                syllables.append(current_syllable)\n",
        "                current_syllable = \"\"\n",
        "\n",
        "    # correct error coda consonants are incorrectly\n",
        "    # indexed on their own and trail behind\n",
        "\n",
        "    corrected_syllables = correct_codas(syllables)  # is this even needed?\n",
        "\n",
        "    return syllables\n"
      ]
    },
    {
      "cell_type": "code",
      "execution_count": 6,
      "metadata": {
        "id": "r-1yqZbedBZk",
        "cellView": "form"
      },
      "outputs": [],
      "source": [
        "#@title correct_codas\n",
        "\n",
        "# name:           correct_codas\n",
        "#\n",
        "# inputs:         a list of syllables that\n",
        "#\n",
        "# return:         the corrected list of syllables\n",
        "#\n",
        "# description:    picks up trailing consonants and attaches them\n",
        "#                 to the previous syllable as its coda\n",
        "\n",
        "def correct_codas(syllabified_word):\n",
        "\n",
        "    counter = 0\n",
        "    new_word = \"\"\n",
        "\n",
        "    for i in syllabified_word:                      # O(n)\n",
        "\n",
        "        # TODO: assert against 0th index\n",
        "        if i in CONSONANTS:\n",
        "            new_word = syllabified_word[counter - 1] + i\n",
        "            syllabified_word[counter - 1] = new_word\n",
        "\n",
        "            syllabified_word.remove(i)\n",
        "            new_word = \"\"\n",
        "\n",
        "        counter += 1\n",
        "    return syllabified_word"
      ]
    },
    {
      "cell_type": "code",
      "execution_count": 19,
      "metadata": {
        "id": "LM_L386udUD6"
      },
      "outputs": [],
      "source": [
        "#@title count_morae\n",
        "\n",
        "# name:           count_morae\n",
        "#\n",
        "# inputs:         list of syllables\n",
        "#\n",
        "# return:         list of their moraic length\n",
        "#\n",
        "# description:    take a list of syllables and return their\n",
        "#                 length (short: 1) or (long: 2)\n",
        "#\n",
        "# note:           diphthongs unimplemented\n",
        "#                 rendered as '?' since they can very in\n",
        "#                 length depending on several factors\n",
        "\n",
        "def count_morae(parsed_line):\n",
        "    morae_list = []\n",
        "    index = 0\n",
        "    for syl in parsed_line:\n",
        "        # if LONG_DIPHTH in syl:\n",
        "        if any(s in syl for s in LONG_DIPHTH):\n",
        "            morae_list.append(2)\n",
        "\n",
        "\n",
        "        # if VOLATILE_DIPHTH in syl:\n",
        "        elif any(s in syl for s in VOLATILE_DIPHTH):\n",
        "\n",
        "          # TODO: implement function to identify diphthong lengths\n",
        "            morae_list.append(UNKNOWN_LENGTH)\n",
        "\n",
        "\n",
        "        # if LONG_VOWELS in syl:\n",
        "        elif any(s in syl for s in LONG_VOWELS):\n",
        "            morae_list.append(2)\n",
        "\n",
        "\n",
        "        # if SHORT_VOWELS in syl:\n",
        "        elif any(s in syl for s in SHORT_VOWELS):\n",
        "            morae_list.append(1)\n",
        "\n",
        "    return morae_list\n",
        "\n",
        "# Updated count_morae function to deterministically assign meter values\n",
        "\n",
        "# def count_morae(parsed_line):\n",
        "#     morae_list = []\n",
        "#     for syl in parsed_line:\n",
        "#         if any(s in syl for s in LONG_DIPHTH):\n",
        "#             morae_list.append(2)\n",
        "#         elif any(s in syl for s in VOLATILE_DIPHTH):\n",
        "#             # Default to 1 for volatile diphthongs unless specific conditions are met for 2\n",
        "#             morae_list.append(1)  # Update this line based on specific rules if needed\n",
        "#         elif any(s in syl for s in LONG_VOWELS):\n",
        "#             morae_list.append(2)\n",
        "#         elif any(s in syl for s in SHORT_VOWELS):\n",
        "#             morae_list.append(1)\n",
        "#     return morae_list\n",
        "\n",
        "# # Test the updated function with the given line\n",
        "# updated_morae_list = updated_count_morae(list_of_syllables)\n",
        "# list_of_syllables, updated_morae_list\n",
        "\n",
        "\n"
      ]
    },
    {
      "cell_type": "code",
      "execution_count": 8,
      "metadata": {
        "id": "lPNRrR3vdT9G",
        "cellView": "form"
      },
      "outputs": [],
      "source": [
        "#@title sum_morae\n",
        "\n",
        "# name:           sum_morae\n",
        "#\n",
        "# inputs:         list of morae\n",
        "#\n",
        "# return:         number of unknown morae and sum of the list\n",
        "#\n",
        "# description:    sums the length of syllables in a line\n",
        "#                 and indentify number of unknown syllables\n",
        "#\n",
        "def sum_morae(morae_list):\n",
        "    sum = 0\n",
        "    unknown_morae = 0\n",
        "    for mora in morae_list:\n",
        "        if mora == UNKNOWN_LENGTH:\n",
        "            unknown_morae += 1\n",
        "        else:\n",
        "            sum += mora\n",
        "    return unknown_morae, sum\n"
      ]
    },
    {
      "cell_type": "code",
      "source": [
        "#@title has_onset\n",
        "\n",
        "# name:           has_onset\n",
        "#\n",
        "# inputs:         a syllable\n",
        "#\n",
        "# return:         true if syllable has a consonant onset, false othewise\n",
        "#\n",
        "# description:    checks if a syllable has a consonant onset\n",
        "#\n",
        "# note:           prints error if onset undetermined\n",
        "\n",
        "def has_onset(syllable):\n",
        "\n",
        "    syl_len = len(syllable)\n",
        "    if syl_len in [0, 1]:\n",
        "        return False\n",
        "\n",
        "    if syl_len >= 3:\n",
        "        if (syllable[0] in CONSONANTS or\n",
        "           (syllable[:1]) in CONS_DIGRAPH):\n",
        "           return True\n",
        "\n",
        "    elif syl_len == 2:\n",
        "        if (syllable[0] in CONSONANTS):\n",
        "            return True\n",
        "\n",
        "    print(\"Error: \", syllable, \" onset not deterimined\")\n",
        "    return False"
      ],
      "metadata": {
        "id": "JS6E2wANqAXl",
        "cellView": "form"
      },
      "execution_count": 9,
      "outputs": []
    },
    {
      "cell_type": "code",
      "source": [
        "#@title has_coda\n",
        "\n",
        "# name:           has_coda\n",
        "#\n",
        "# inputs:         a syllable\n",
        "#\n",
        "# return:         true if syllable has a consonant coda, false othewise\n",
        "#\n",
        "# description:    checks if a syllable has a consonant coda\n",
        "#\n",
        "# note:           prints error if coda undetermined\n",
        "\n",
        "def has_coda(syllable):\n",
        "    syl_len = len(syllable)\n",
        "\n",
        "    if syl_len in [0, 1]:\n",
        "        return False\n",
        "\n",
        "    if syl_len > 2 and syllable[-2:-1] in VOLATILE_DIPHTH:\n",
        "        return False\n",
        "\n",
        "    elif syllable[-1] in CONSONANTS:\n",
        "        return True\n",
        "\n",
        "    elif syl_len > 2 and syllable[-2:-1] in CONS_DIGRAPH:\n",
        "        return True\n",
        "\n",
        "    print(\"Error: \", syllable, \" coda not deterimined\")\n",
        "    return False"
      ],
      "metadata": {
        "id": "gddppH01sxPV"
      },
      "execution_count": 10,
      "outputs": []
    },
    {
      "cell_type": "code",
      "source": [
        "#@title variations\n",
        "# For the template [2, 2, 1, 2, 2] these are the valid variations:\n",
        "misaan1 = [[2, 2, 1, 2, 2], [1, 1, 2, 1, 2, 2], [2, 1, 1, 1, 2, 2], [2, 2, 1, 1, 1, 2], [2, 2, 1, 2, 1, 1], [1, 1, 1, 1, 1, 2, 2], [1, 1, 2, 1, 1, 1, 2], [1, 1, 2, 1, 2, 1, 1], [1, 1, 1, 1, 1, 2, 2], [2, 1, 1, 1, 1, 1, 2], [2, 1, 1, 1, 2, 1, 1], [1, 1, 2, 1, 1, 1, 2], [2, 1, 1, 1, 1, 1, 2], [2, 2, 1, 1, 1, 1, 1], [1, 1, 2, 1, 2, 1, 1], [2, 1, 1, 1, 2, 1, 1], [2, 2, 1, 1, 1, 1, 1], [1, 1, 1, 1, 1, 2, 1, 1], [1, 1, 2, 1, 1, 1, 1, 1], [1, 1, 1, 1, 1, 2, 1, 1], [2, 1, 1, 1, 1, 1, 1, 1], [1, 1, 2, 1, 1, 1, 1, 1], [2, 1, 1, 1, 1, 1, 1, 1], [1, 1, 1, 1, 1, 1, 1, 1, 1], [1, 1, 1, 1, 1, 1, 1, 1, 1]]\n",
        "\n",
        "# For the template [1, 2, 2, 1, 2, 2] these are the valid variations:\n",
        "misaan2 = [[1, 2, 2, 1, 2, 2], [1, 1, 1, 2, 1, 2, 2], [1, 2, 1, 1, 1, 2, 2], [1, 2, 2, 1, 1, 1, 2], [1, 2, 2, 1, 2, 1, 1], [1, 1, 1, 1, 1, 1, 2, 2], [1, 1, 1, 2, 1, 1, 1, 2], [1, 1, 1, 2, 1, 2, 1, 1], [1, 1, 1, 1, 1, 1, 2, 2], [1, 2, 1, 1, 1, 1, 1, 2], [1, 2, 1, 1, 1, 2, 1, 1], [1, 1, 1, 2, 1, 1, 1, 2], [1, 2, 1, 1, 1, 1, 1, 2], [1, 2, 2, 1, 1, 1, 1, 1], [1, 1, 1, 2, 1, 2, 1, 1], [1, 2, 1, 1, 1, 2, 1, 1], [1, 2, 2, 1, 1, 1, 1, 1], [1, 1, 1, 1, 1, 1, 2, 1, 1], [1, 1, 1, 2, 1, 1, 1, 1, 1], [1, 1, 1, 1, 1, 1, 2, 1, 1], [1, 2, 1, 1, 1, 1, 1, 1, 1], [1, 1, 1, 2, 1, 1, 1, 1, 1], [1, 2, 1, 1, 1, 1, 1, 1, 1], [1, 1, 1, 1, 1, 1, 1, 1, 1, 1], [1, 1, 1, 1, 1, 1, 1, 1, 1, 1]]\n",
        "\n",
        "# For the template [2, 1, 2, 1, 2, 2] these are the valid variations:\n",
        "misaan3 = [[2, 1, 2, 1, 2, 2], [1, 1, 1, 2, 1, 2, 2], [2, 1, 1, 1, 1, 2, 2], [2, 1, 2, 1, 1, 1, 2], [2, 1, 2, 1, 2, 1, 1], [1, 1, 1, 1, 1, 1, 2, 2], [1, 1, 1, 2, 1, 1, 1, 2], [1, 1, 1, 2, 1, 2, 1, 1], [1, 1, 1, 1, 1, 1, 2, 2], [2, 1, 1, 1, 1, 1, 1, 2], [2, 1, 1, 1, 1, 2, 1, 1], [1, 1, 1, 2, 1, 1, 1, 2], [2, 1, 1, 1, 1, 1, 1, 2], [2, 1, 2, 1, 1, 1, 1, 1], [1, 1, 1, 2, 1, 2, 1, 1], [2, 1, 1, 1, 1, 2, 1, 1], [2, 1, 2, 1, 1, 1, 1, 1], [1, 1, 1, 1, 1, 1, 2, 1, 1], [1, 1, 1, 2, 1, 1, 1, 1, 1], [1, 1, 1, 1, 1, 1, 2, 1, 1], [2, 1, 1, 1, 1, 1, 1, 1, 1], [1, 1, 1, 2, 1, 1, 1, 1, 1], [2, 1, 1, 1, 1, 1, 1, 1, 1], [1, 1, 1, 1, 1, 1, 1, 1, 1, 1], [1, 1, 1, 1, 1, 1, 1, 1, 1, 1]]\n",
        "\n",
        "valid_misaan = misaan1 + misaan2 + misaan3"
      ],
      "metadata": {
        "id": "HVGBmPF0P26O"
      },
      "execution_count": 11,
      "outputs": []
    },
    {
      "cell_type": "code",
      "execution_count": 20,
      "metadata": {
        "id": "0551KohJdKM8",
        "colab": {
          "base_uri": "https://localhost:8080/"
        },
        "outputId": "bbfff62e-8545-4f50-f21c-18e29e3211e7"
      },
      "outputs": [
        {
          "output_type": "stream",
          "name": "stdout",
          "text": [
            "\n",
            "\n",
            "['guun', 'soo', 'ji', 'raan', 'na', 'hay']\n",
            "[2, 2, 1, 2, 1, '?']\n",
            "\n",
            "\n",
            "known length:       8\n",
            "unknown syllables:  1\n"
          ]
        }
      ],
      "source": [
        "#@title main\n",
        "\n",
        "# line = input(\"Enter one line: \")\n",
        "line = \"Guun soo jiraan nahay\"\n",
        "\n",
        "list_of_syllables = parser(line)\n",
        "print(\"\\n\")\n",
        "print(list_of_syllables)\n",
        "\n",
        "list_of_morae = count_morae(list_of_syllables)\n",
        "print(list_of_morae)\n",
        "\n",
        "unknown, known = sum_morae(list_of_morae)\n",
        "\n",
        "print(\"\\n\")\n",
        "print(\"known length:      \", known)\n",
        "print(\"unknown syllables: \", unknown)"
      ]
    },
    {
      "cell_type": "code",
      "source": [
        "def find_best_template_match(line, templates):\n",
        "    parsed_syllables = parser(line)\n",
        "    possible_meters =  count_morae(parsed_syllables)\n",
        "\n",
        "    # Generate all possible combinations of meter values for the given line\n",
        "    def generate_combinations(possible_meters):\n",
        "        if UNKNOWN_LENGTH not in possible_meters:\n",
        "            return [possible_meters]\n",
        "        index = possible_meters.index(UNKNOWN_LENGTH)\n",
        "        without_unknown = possible_meters[:index] + possible_meters[index + 1:]\n",
        "        return (generate_combinations([1] + without_unknown) +\n",
        "                generate_combinations([2] + without_unknown))\n",
        "\n",
        "    all_combinations = generate_combinations(possible_meters)\n",
        "\n",
        "    # Find the combination that matches one of the templates\n",
        "    for combination in all_combinations:\n",
        "        for template in templates:\n",
        "            if combination == template or all(elem in combination for elem in template):\n",
        "                return combination\n",
        "\n",
        "    return None\n",
        "\n",
        "# Example usage:\n",
        "line = \"Guun soo jiraan nahay\"\n",
        "templates = valid_misaan\n",
        "\n",
        "\n",
        "best_match = find_best_template_match(line, templates)\n",
        "print(\"Best Template Match:\", best_match)\n"
      ],
      "metadata": {
        "colab": {
          "base_uri": "https://localhost:8080/"
        },
        "id": "qzAwDbNJPyx5",
        "outputId": "531b56ae-49ce-4e29-a43e-b965ff685c11"
      },
      "execution_count": 21,
      "outputs": [
        {
          "output_type": "stream",
          "name": "stdout",
          "text": [
            "Best Template Match: [1, 2, 2, 1, 2, 1]\n"
          ]
        }
      ]
    }
  ],
  "metadata": {
    "colab": {
      "provenance": [],
      "include_colab_link": true
    },
    "kernelspec": {
      "display_name": "Python 3",
      "name": "python3"
    },
    "language_info": {
      "name": "python"
    }
  },
  "nbformat": 4,
  "nbformat_minor": 0
}